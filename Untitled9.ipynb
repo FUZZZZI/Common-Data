{
 "cells": [
  {
   "cell_type": "code",
   "execution_count": null,
   "id": "508a45cf",
   "metadata": {},
   "outputs": [],
   "source": [
    "print(\"SDfg\")\n",
    "#This is vodkd\n",
    "sfdgdfgdf\n",
    "sdfgfg\n",
    "\n",
    "def test(a):\n",
    "    print(a)"
   ]
  },
  {
   "cell_type": "markdown",
   "id": "cd146c63",
   "metadata": {},
   "source": [
    "you are goof"
   ]
  },
  {
   "cell_type": "markdown",
   "id": "29d6bb04",
   "metadata": {},
   "source": [
    "# Heading"
   ]
  },
  {
   "cell_type": "markdown",
   "id": "cd49ec33",
   "metadata": {},
   "source": [
    "print(\"SDfg\")"
   ]
  },
  {
   "cell_type": "code",
   "execution_count": null,
   "id": "f7c54461",
   "metadata": {},
   "outputs": [],
   "source": [
    "def test(a):\n",
    "    print(a)"
   ]
  }
 ],
 "metadata": {
  "kernelspec": {
   "display_name": "Python 3 (ipykernel)",
   "language": "python",
   "name": "python3"
  },
  "language_info": {
   "codemirror_mode": {
    "name": "ipython",
    "version": 3
   },
   "file_extension": ".py",
   "mimetype": "text/x-python",
   "name": "python",
   "nbconvert_exporter": "python",
   "pygments_lexer": "ipython3",
   "version": "3.9.13"
  }
 },
 "nbformat": 4,
 "nbformat_minor": 5
}
